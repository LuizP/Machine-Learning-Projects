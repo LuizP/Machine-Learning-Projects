{
  "nbformat": 4,
  "nbformat_minor": 0,
  "metadata": {
    "colab": {
      "name": "MachineLearning-Project-01.ipynb",
      "provenance": [],
      "authorship_tag": "ABX9TyMv83TbnL2fe/+MdKExLWHj",
      "include_colab_link": true
    },
    "kernelspec": {
      "name": "python3",
      "display_name": "Python 3"
    },
    "language_info": {
      "name": "python"
    }
  },
  "cells": [
    {
      "cell_type": "markdown",
      "metadata": {
        "id": "view-in-github",
        "colab_type": "text"
      },
      "source": [
        "<a href=\"https://colab.research.google.com/github/LuizP/Machine-Learning-Projects/blob/main/MachineLearning_Project_01.ipynb\" target=\"_parent\"><img src=\"https://colab.research.google.com/assets/colab-badge.svg\" alt=\"Open In Colab\"/></a>"
      ]
    },
    {
      "cell_type": "code",
      "execution_count": 1,
      "metadata": {
        "colab": {
          "base_uri": "https://localhost:8080/"
        },
        "id": "6LG9jnka4tQ6",
        "outputId": "036d818a-688b-4957-d489-bb2d75035346"
      },
      "outputs": [
        {
          "output_type": "stream",
          "name": "stdout",
          "text": [
            "Mounted at /content/drive\n"
          ]
        }
      ],
      "source": [
        "#Utilizar os dados que estão no google drive é uma boa forma de evitar \n",
        "#que eles seja carregados toda vez que executar o código  \n",
        "from google.colab import drive\n",
        "drive.mount('/content/drive')"
      ]
    },
    {
      "cell_type": "code",
      "source": [
        "#importar as bibliotecas necessárias\n",
        "import pandas as pd\n",
        "import numpy as np\n",
        "import math\n",
        "#bibliotecas do scikit-learn\n",
        "from sklearn.metrics import (roc_curve, auc, roc_auc_score, confusion_matrix)\n",
        "import matplotlib.pyplot as plt\n",
        "import itertools\n",
        "#métricas de desempenho que serão usadas para avaliar o modelo\n",
        "from sklearn import linear_model\n",
        "from sklearn.metrics import mean_absolute_error\n",
        "from sklearn.metrics import mean_squared_error\n",
        "from sklearn.metrics import confusion_matrix\n",
        "from sklearn.metrics import accuracy_score\n",
        "from sklearn.metrics import f1_score\n",
        "from sklearn.metrics import recall_score\n",
        "from sklearn.metrics import precision_score"
      ],
      "metadata": {
        "id": "cRcqu8y34zH_"
      },
      "execution_count": 2,
      "outputs": []
    },
    {
      "cell_type": "code",
      "source": [
        "#aqui cria-se os dataframes X e Y com os dados adiantados de 5 minutos para a predição \n",
        "X = pd.read_excel('/content/drive/MyDrive/Projeto Cnpq/dados/XdadosLuiz5min.xlsx')\n",
        "Y = pd.read_excel('/content/drive/MyDrive/Projeto Cnpq/dados/YdadosLuiz5min.xlsx', engine='openpyxl')"
      ],
      "metadata": {
        "id": "PbpVJEi05juT"
      },
      "execution_count": 3,
      "outputs": []
    },
    {
      "cell_type": "code",
      "source": [
        "print('X(linhas, colunas), X',X.shape)\n",
        "print('Y(linhas, colunas), Y',Y.shape)"
      ],
      "metadata": {
        "colab": {
          "base_uri": "https://localhost:8080/"
        },
        "id": "u4mP0xlL7Z_u",
        "outputId": "f2373bcb-c749-498d-f7bc-795ff32dd9e2"
      },
      "execution_count": 20,
      "outputs": [
        {
          "output_type": "stream",
          "name": "stdout",
          "text": [
            "X(linhas, colunas), X (368854, 14)\n",
            "Y(linhas, colunas), Y (368854, 1)\n"
          ]
        }
      ]
    },
    {
      "cell_type": "code",
      "source": [
        ""
      ],
      "metadata": {
        "colab": {
          "base_uri": "https://localhost:8080/"
        },
        "id": "bG0ZsWDY7gHS",
        "outputId": "b008b136-ba28-4e9a-c6dc-b2bb70dc567d"
      },
      "execution_count": 6,
      "outputs": [
        {
          "output_type": "execute_result",
          "data": {
            "text/plain": [
              "(368854, 1)"
            ]
          },
          "metadata": {},
          "execution_count": 6
        }
      ]
    },
    {
      "cell_type": "code",
      "source": [
        "#divide os 2 dataframes X e Y em treino e teste (20% dos dados para teste, 80% para treino) \n",
        "from sklearn.model_selection import train_test_split\n",
        "\n",
        "X_train, X_test, y_train, y_test = train_test_split(X, Y, test_size=0.2)"
      ],
      "metadata": {
        "id": "L6h6o6Fa7zVR"
      },
      "execution_count": 10,
      "outputs": []
    },
    {
      "cell_type": "code",
      "source": [
        "def get_auc_scores(clf1, X_train, X_test, y_train, y_test):\n",
        "   #Prints the AUC scores for training and testing data and returns testing score\n",
        " \n",
        " y_train_score = clf1.predict_proba(X_train)[:, 1]\n",
        " y_test_score = clf1.predict_proba(X_test)[:, 1]\n",
        " auc_train = roc_auc_score(y_train, y_train_score)\n",
        " auc_test = roc_auc_score(y_test, y_test_score)\n",
        " print(\"Training AUC:\", auc_train, \"Testing AUC:\", auc_test) \n",
        " \n",
        " return y_test_score\n",
        "\n",
        "def plot_roc_curve(y_test, y_test_score): #Plot ROC curve for testing data    \n",
        "  fpr, tpr, n_threshold = roc_curve(y_test, y_test_score)\n",
        "  roc_auc = auc(fpr, tpr)\n",
        "  #plt.figure()\n",
        "  plt.figure(figsize=(6.93, 5), dpi=600) #size inches\n",
        "  plt.plot(fpr, tpr, label=\"ROC curve (area = %0.2f)\" % roc_auc)\n",
        "  plt.plot([0, 1], [0, 1], 'r-')\n",
        "  plt.xlim([0.0, 1.0])\n",
        "  plt.ylim([0.0, 1.05])\n",
        "  plt.xlabel(\"Taxa de Falso Positivo\", fontsize=18)\n",
        "  plt.ylabel(\"Taxa de Verdadeiros Positivos\", fontsize=18)\n",
        "  plt.title(\"Curva ROC\", fontsize=18)\n",
        "  plt.legend(loc='lower right')\n",
        "  plt.show()"
      ],
      "metadata": {
        "id": "PI_xRt8J8LJ9"
      },
      "execution_count": 11,
      "outputs": []
    },
    {
      "cell_type": "code",
      "source": [
        "from sklearn.neural_network import MLPClassifier\n",
        "clf1 = MLPClassifier(solver='adam', alpha=0.0015, hidden_layer_sizes=(13, 5, 2))\n",
        "\n",
        "clf1.fit(X_train, y_train)\n",
        "y_pred = clf1.predict(X_test)\n",
        "results = confusion_matrix(y_test,y_pred)\n",
        "accurayscore = accuracy_score(y_test,y_pred);\n",
        "f1score = f1_score(y_test,y_pred);\n",
        "recallscore = recall_score(y_test,y_pred, average = 'binary');\n",
        "precisionscore = precision_score(y_test,y_pred);\n",
        "\n",
        "TP=results[1,1]; TN=results[0,0]; FP=results[0,1]; FN=results[1,0];\n",
        "\n",
        "accurayscore = (TP+TN)/(TP+FN+TN+FP)\n",
        "sensitivity1 = TP/(TP+FN)\n",
        "specificity1 = TN/(TN+FP)\n",
        "FPR = FP/(TN+FP)\n",
        "FNR = FN/(TP+FN)\n",
        "\n",
        "from sklearn.metrics import plot_roc_curve\n",
        "svc_disp = plot_roc_curve(clf1, X_test, y_test)\n",
        "\n",
        "print('results', results) \n",
        "print('accurayscore', accurayscore)\n",
        "print('f1score', f1score) \n",
        "print('sensitivity1', sensitivity1)\n",
        "print('specificity1', specificity1)\n",
        "print('FPR', FPR)\n",
        "print('FNR', FNR)"
      ],
      "metadata": {
        "colab": {
          "base_uri": "https://localhost:8080/",
          "height": 507
        },
        "id": "w6X0Djoj8PiJ",
        "outputId": "349c4771-2678-4843-98f8-40ef94af843e"
      },
      "execution_count": 12,
      "outputs": [
        {
          "output_type": "stream",
          "name": "stderr",
          "text": [
            "/usr/local/lib/python3.7/dist-packages/sklearn/neural_network/_multilayer_perceptron.py:1109: DataConversionWarning: A column-vector y was passed when a 1d array was expected. Please change the shape of y to (n_samples, ), for example using ravel().\n",
            "  y = column_or_1d(y, warn=True)\n",
            "/usr/local/lib/python3.7/dist-packages/sklearn/utils/deprecation.py:87: FutureWarning: Function plot_roc_curve is deprecated; Function :func:`plot_roc_curve` is deprecated in 1.0 and will be removed in 1.2. Use one of the class methods: :meth:`sklearn.metric.RocCurveDisplay.from_predictions` or :meth:`sklearn.metric.RocCurveDisplay.from_estimator`.\n",
            "  warnings.warn(msg, category=FutureWarning)\n"
          ]
        },
        {
          "output_type": "stream",
          "name": "stdout",
          "text": [
            "results [[32068  4728]\n",
            " [ 3995 32980]]\n",
            "accurayscore 0.8817557034607095\n",
            "f1score 0.8831996572178408\n",
            "sensitivity1 0.8919540229885058\n",
            "specificity1 0.8715077725839765\n",
            "FPR 0.12849222741602348\n",
            "FNR 0.10804597701149425\n"
          ]
        },
        {
          "output_type": "display_data",
          "data": {
            "text/plain": [
              "<Figure size 432x288 with 1 Axes>"
            ],
            "image/png": "[encoded data removed]"
          },
          "metadata": {
            "needs_background": "light"
          }
        }
      ]
    }
  ]
}