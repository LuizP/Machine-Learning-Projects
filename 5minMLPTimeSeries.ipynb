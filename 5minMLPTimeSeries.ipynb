{
  "cells": [
    {
      "cell_type": "markdown",
      "metadata": {
        "id": "view-in-github",
        "colab_type": "text"
      },
      "source": [
        "<a href=\"https://colab.research.google.com/github/LuizP/Portfolio/blob/main/5minMLPTimeSeries.ipynb\" target=\"_parent\"><img src=\"https://colab.research.google.com/assets/colab-badge.svg\" alt=\"Open In Colab\"/></a>"
      ]
    },
    {
      "cell_type": "code",
      "execution_count": 1,
      "metadata": {
        "colab": {
          "base_uri": "https://localhost:8080/"
        },
        "id": "0lQK3Po7GSw7",
        "outputId": "6e575a48-6bd5-4a7d-b319-876e46f35aa4"
      },
      "outputs": [
        {
          "output_type": "stream",
          "name": "stdout",
          "text": [
            "Mounted at /content/drive\n"
          ]
        }
      ],
      "source": [
        "from google.colab import drive\n",
        "drive.mount('/content/drive')"
      ]
    },
    {
      "cell_type": "code",
      "execution_count": null,
      "metadata": {
        "id": "b8Tt2lFl41V6"
      },
      "outputs": [],
      "source": [
        "import pandas as pd\n",
        "import numpy as np"
      ]
    },
    {
      "cell_type": "code",
      "execution_count": null,
      "metadata": {
        "id": "rOFs7t_y4Y-E"
      },
      "outputs": [],
      "source": [
        "X = pd.read_excel('/content/drive/MyDrive/Projeto Cnpq/dados/XdadosLuiz5min.xlsx')\n",
        "Y = pd.read_excel('/content/drive/MyDrive/Projeto Cnpq/dados/YdadosLuiz5min.xlsx', engine='openpyxl')"
      ]
    },
    {
      "cell_type": "code",
      "execution_count": null,
      "metadata": {
        "id": "oLArUN6ay5rU"
      },
      "outputs": [],
      "source": [
        "X=X.drop[X.head(74717)]"
      ]
    },
    {
      "cell_type": "code",
      "execution_count": null,
      "metadata": {
        "id": "K1hrU4C-GzOa",
        "colab": {
          "base_uri": "https://localhost:8080/",
          "height": 235
        },
        "outputId": "56afc9a2-f757-4b40-cadf-1e16dfc591e7"
      },
      "outputs": [
        {
          "output_type": "error",
          "ename": "NameError",
          "evalue": "ignored",
          "traceback": [
            "\u001b[0;31m---------------------------------------------------------------------------\u001b[0m",
            "\u001b[0;31mNameError\u001b[0m                                 Traceback (most recent call last)",
            "\u001b[0;32m<ipython-input-5-218578e84821>\u001b[0m in \u001b[0;36m<module>\u001b[0;34m()\u001b[0m\n\u001b[0;32m----> 1\u001b[0;31m \u001b[0mX\u001b[0m \u001b[0;34m=\u001b[0m \u001b[0mdf_train_30_dropS4\u001b[0m\u001b[0;34m\u001b[0m\u001b[0;34m\u001b[0m\u001b[0m\n\u001b[0m\u001b[1;32m      2\u001b[0m \u001b[0;32mfrom\u001b[0m \u001b[0msklearn\u001b[0m \u001b[0;32mimport\u001b[0m \u001b[0mpreprocessing\u001b[0m\u001b[0;34m\u001b[0m\u001b[0;34m\u001b[0m\u001b[0m\n\u001b[1;32m      3\u001b[0m \u001b[0mX1\u001b[0m \u001b[0;34m=\u001b[0m \u001b[0mpreprocessing\u001b[0m\u001b[0;34m.\u001b[0m\u001b[0mnormalize\u001b[0m\u001b[0;34m(\u001b[0m\u001b[0mX\u001b[0m\u001b[0;34m,\u001b[0m \u001b[0mnorm\u001b[0m\u001b[0;34m=\u001b[0m\u001b[0;34m'l2'\u001b[0m\u001b[0;34m,\u001b[0m \u001b[0maxis\u001b[0m\u001b[0;34m=\u001b[0m\u001b[0;36m0\u001b[0m\u001b[0;34m,\u001b[0m \u001b[0mcopy\u001b[0m\u001b[0;34m=\u001b[0m\u001b[0;32mTrue\u001b[0m\u001b[0;34m,\u001b[0m \u001b[0mreturn_norm\u001b[0m\u001b[0;34m=\u001b[0m\u001b[0;32mFalse\u001b[0m\u001b[0;34m)\u001b[0m\u001b[0;34m\u001b[0m\u001b[0;34m\u001b[0m\u001b[0m\n\u001b[1;32m      4\u001b[0m \u001b[0mX2\u001b[0m\u001b[0;34m=\u001b[0m\u001b[0mpd\u001b[0m\u001b[0;34m.\u001b[0m\u001b[0mDataFrame\u001b[0m\u001b[0;34m(\u001b[0m\u001b[0mX1\u001b[0m\u001b[0;34m)\u001b[0m\u001b[0;34m\u001b[0m\u001b[0;34m\u001b[0m\u001b[0m\n\u001b[1;32m      5\u001b[0m \u001b[0;34m\u001b[0m\u001b[0m\n",
            "\u001b[0;31mNameError\u001b[0m: name 'df_train_30_dropS4' is not defined"
          ]
        }
      ],
      "source": [
        "X = df_train_30_dropS4\n",
        "from sklearn import preprocessing\n",
        "X1 = preprocessing.normalize(X, norm='l2', axis=0, copy=True, return_norm=False)\n",
        "X2=pd.DataFrame(X1)\n",
        "\n",
        "from imblearn.over_sampling import SMOTE\n",
        "smote = SMOTE(sampling_strategy='minority')\n",
        "X_sm, y_sm = smote.fit_sample(X, y)\n",
        "y_sm = pd.Series(y_sm)\n",
        "y_sm.value_counts()"
      ]
    },
    {
      "cell_type": "code",
      "execution_count": null,
      "metadata": {
        "id": "Kw-SaWjjKABL"
      },
      "outputs": [],
      "source": [
        "from sklearn.model_selection import train_test_split\n"
      ]
    },
    {
      "cell_type": "code",
      "execution_count": null,
      "metadata": {
        "id": "eMy8VNQkyubq"
      },
      "outputs": [],
      "source": [
        "X_true_train, X_true_test, y_true_train, y_true_test = train_test_split(X, Y, test_size=0.5)"
      ]
    },
    {
      "cell_type": "code",
      "execution_count": null,
      "metadata": {
        "id": "drYlsvwfG7__"
      },
      "outputs": [],
      "source": [
        "from sklearn.metrics import (roc_curve, auc, roc_auc_score, confusion_matrix)\n",
        "import matplotlib.pyplot as plt\n",
        "import itertools\n",
        "X_train, X_test, y_train, y_test = train_test_split(X_sm, y_sm, test_size=0.2)"
      ]
    },
    {
      "cell_type": "code",
      "execution_count": null,
      "metadata": {
        "id": "iRzzNbjSKMXC"
      },
      "outputs": [],
      "source": [
        "X_train, X_test, y_train, y_test = train_test_split(X, Y, test_size=0.2)"
      ]
    },
    {
      "cell_type": "code",
      "execution_count": null,
      "metadata": {
        "id": "nM5bqEVEHPLh"
      },
      "outputs": [],
      "source": [
        "import math\n",
        "\n",
        "from sklearn.metrics import (roc_curve, auc, roc_auc_score, confusion_matrix)\n",
        "import matplotlib.pyplot as plt\n",
        "import itertools\n",
        "\n",
        "from sklearn import linear_model\n",
        "from sklearn.metrics import mean_absolute_error\n",
        "from sklearn.metrics import mean_squared_error\n",
        "from sklearn.metrics import confusion_matrix\n",
        "from sklearn.metrics import accuracy_score\n",
        "from sklearn.metrics import f1_score\n",
        "from sklearn.metrics import recall_score\n",
        "from sklearn.metrics import precision_score\n",
        "\n"
      ]
    },
    {
      "cell_type": "code",
      "execution_count": null,
      "metadata": {
        "id": "AiELXEExHS4Q"
      },
      "outputs": [],
      "source": [
        "def get_auc_scores(clf1, X_train, X_test, y_train, y_test):\n",
        "   #Prints the AUC scores for training and testing data and returns testing score\n",
        " \n",
        " y_train_score = clf1.predict_proba(X_train)[:, 1]\n",
        " y_test_score = clf1.predict_proba(X_test)[:, 1]\n",
        " auc_train = roc_auc_score(y_train, y_train_score)\n",
        " auc_test = roc_auc_score(y_test, y_test_score)\n",
        " print(\"Training AUC:\", auc_train, \"Testing AUC:\", auc_test) \n",
        " \n",
        " return y_test_score\n",
        "\n",
        "def plot_roc_curve(y_test, y_test_score): #Plot ROC curve for testing data    \n",
        "  fpr, tpr, n_threshold = roc_curve(y_test, y_test_score)\n",
        "  roc_auc = auc(fpr, tpr)\n",
        "  #plt.figure()\n",
        "  plt.figure(figsize=(6.93, 5), dpi=600) #size inches\n",
        "  plt.plot(fpr, tpr, label=\"ROC curve (area = %0.2f)\" % roc_auc)\n",
        "  plt.plot([0, 1], [0, 1], 'r-')\n",
        "  plt.xlim([0.0, 1.0])\n",
        "  plt.ylim([0.0, 1.05])\n",
        "  plt.xlabel(\"Taxa de Falso Positivo\", fontsize=18)\n",
        "  plt.ylabel(\"Taxa de Verdadeiros Positivos\", fontsize=18)\n",
        "  plt.title(\"Curva ROC\", fontsize=18)\n",
        "  plt.legend(loc='lower right')\n",
        "  plt.show()"
      ]
    },
    {
      "cell_type": "code",
      "execution_count": null,
      "metadata": {
        "colab": {
          "base_uri": "https://localhost:8080/"
        },
        "id": "0_Pj9pkMrCGH",
        "outputId": "a1c71ab6-1b03-4ab0-84cf-74131fd5c318"
      },
      "outputs": [
        {
          "output_type": "stream",
          "name": "stderr",
          "text": [
            "/usr/local/lib/python3.7/dist-packages/sklearn/neural_network/_multilayer_perceptron.py:1109: DataConversionWarning: A column-vector y was passed when a 1d array was expected. Please change the shape of y to (n_samples, ), for example using ravel().\n",
            "  y = column_or_1d(y, warn=True)\n",
            "/usr/local/lib/python3.7/dist-packages/sklearn/utils/deprecation.py:87: FutureWarning: Function plot_roc_curve is deprecated; Function :func:`plot_roc_curve` is deprecated in 1.0 and will be removed in 1.2. Use one of the class methods: :meth:`sklearn.metric.RocCurveDisplay.from_predictions` or :meth:`sklearn.metric.RocCurveDisplay.from_estimator`.\n",
            "  warnings.warn(msg, category=FutureWarning)\n"
          ]
        },
        {
          "output_type": "stream",
          "name": "stdout",
          "text": [
            "results [[31454  5353]\n",
            " [ 3760 33204]]\n",
            "accurayscore 0.8764690732130512\n",
            "f1score 0.879331576647555\n",
            "sensitivity1 0.8982794069905854\n",
            "specificity1 0.8545657076099655\n",
            "FPR 0.1454342923900345\n",
            "FNR 0.10172059300941456\n"
          ]
        },
        {
          "output_type": "display_data",
          "data": {
            "image/png": "[encoded data removed]",
            "text/plain": [
              "<Figure size 432x288 with 1 Axes>"
            ]
          },
          "metadata": {
            "needs_background": "light"
          }
        }
      ],
      "source": [
        "from sklearn.neural_network import MLPClassifier\n",
        "clf1 = MLPClassifier(solver='adam', alpha=0.0015, hidden_layer_sizes=(13, 5, 2))\n",
        "\n",
        "clf1.fit(X_train, y_train)\n",
        "y_pred = clf1.predict(X_test)\n",
        "results = confusion_matrix(y_test,y_pred)\n",
        "accurayscore = accuracy_score(y_test,y_pred);\n",
        "f1score = f1_score(y_test,y_pred);\n",
        "recallscore = recall_score(y_test,y_pred, average = 'binary');\n",
        "precisionscore = precision_score(y_test,y_pred);\n",
        "\n",
        "TP=results[1,1]; TN=results[0,0]; FP=results[0,1]; FN=results[1,0];\n",
        "\n",
        "accurayscore = (TP+TN)/(TP+FN+TN+FP)\n",
        "sensitivity1 = TP/(TP+FN)\n",
        "specificity1 = TN/(TN+FP)\n",
        "FPR = FP/(TN+FP)\n",
        "FNR = FN/(TP+FN)\n",
        "\n",
        "from sklearn.metrics import plot_roc_curve\n",
        "svc_disp = plot_roc_curve(clf1, X_test, y_test)\n",
        "\n",
        "print('results', results) \n",
        "print('accurayscore', accurayscore)\n",
        "print('f1score', f1score) \n",
        "print('sensitivity1', sensitivity1)\n",
        "print('specificity1', specificity1)\n",
        "print('FPR', FPR)\n",
        "print('FNR', FNR)"
      ]
    },
    {
      "cell_type": "code",
      "execution_count": null,
      "metadata": {
        "id": "I0gg99pF4QHY"
      },
      "outputs": [],
      "source": [
        "y_test_score = get_auc_scores(clf1, X_train, X_test, y_train, y_test)\n",
        "plot_roc_curve(y_test, y_test_score)"
      ]
    },
    {
      "cell_type": "code",
      "execution_count": null,
      "metadata": {
        "id": "VSEYS7jHaj3d"
      },
      "outputs": [],
      "source": [
        ""
      ]
    }
  ],
  "metadata": {
    "colab": {
      "collapsed_sections": [],
      "name": "5minMLPTimeSeries.ipynb",
      "provenance": [],
      "authorship_tag": "ABX9TyOCUMYRGAqsCf9YURbox59t",
      "include_colab_link": true
    },
    "kernelspec": {
      "display_name": "Python 3",
      "name": "python3"
    },
    "language_info": {
      "name": "python"
    }
  },
  "nbformat": 4,
  "nbformat_minor": 0
}